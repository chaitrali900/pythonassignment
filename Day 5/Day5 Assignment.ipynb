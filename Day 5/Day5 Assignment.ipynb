{
 "cells": [
  {
   "cell_type": "code",
   "execution_count": 12,
   "metadata": {},
   "outputs": [
    {
     "name": "stdout",
     "output_type": "stream",
     "text": [
      "[0, 0, 0, 0, 0, 1, 1, 1, 2, 2, 3, 4, 4, 10, 56, 56]\n",
      "[1, 1, 1, 2, 2, 3, 4, 4, 10, 56, 56, 0, 0, 0, 0, 0]\n"
     ]
    }
   ],
   "source": [
    "list1=[0,1,2,10,4,1,0,56,2,0,1,3,0,56,0,4]\n",
    "cnt=0\n",
    "temp=0\n",
    "n=len(list1)\n",
    "list1.sort()\n",
    "print(list1)\n",
    "\n",
    "for i in range(n):\n",
    "    if list1[i]!=0:\n",
    "        list1[cnt]=list1[i]\n",
    "        cnt=cnt+1\n",
    "        \n",
    "while cnt<n:\n",
    "        list1[cnt]=0\n",
    "        cnt=cnt+1\n",
    "        \n",
    "print(list1)"
   ]
  },
  {
   "cell_type": "code",
   "execution_count": 10,
   "metadata": {},
   "outputs": [
    {
     "name": "stdout",
     "output_type": "stream",
     "text": [
      "[10, 20, 40, 60, 70, 80, 5, 15, 25, 35, 45, 60]\n",
      "[5, 10, 15, 20, 25, 35, 40, 45, 60, 60, 70, 80]\n"
     ]
    }
   ],
   "source": [
    "list1=[10,20,40,60,70,80]\n",
    "list2=[5,15,25,35,45,60]\n",
    "n=len(list1)+len(list2)\n",
    "mlist=list1+list2\n",
    "print(mlist)\n",
    "\n",
    "j=0\n",
    "while j<n-1:\n",
    "    if(mlist[j]>mlist[j+1]):\n",
    "        temp=mlist[j]\n",
    "        mlist[j]=mlist[j+1]\n",
    "        mlist[j+1]=temp\n",
    "        j=-1\n",
    "    j+=1\n",
    "            \n",
    "print(mlist)\n",
    "    \n",
    "    "
   ]
  },
  {
   "cell_type": "code",
   "execution_count": null,
   "metadata": {},
   "outputs": [],
   "source": []
  }
 ],
 "metadata": {
  "kernelspec": {
   "display_name": "Python 2",
   "language": "python",
   "name": "python2"
  },
  "language_info": {
   "codemirror_mode": {
    "name": "ipython",
    "version": 2
   },
   "file_extension": ".py",
   "mimetype": "text/x-python",
   "name": "python",
   "nbconvert_exporter": "python",
   "pygments_lexer": "ipython2",
   "version": "2.7.16"
  }
 },
 "nbformat": 4,
 "nbformat_minor": 2
}
