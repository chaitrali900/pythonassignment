{
 "cells": [
  {
   "cell_type": "markdown",
   "metadata": {},
   "source": [
    "# sum of n numbers"
   ]
  },
  {
   "cell_type": "code",
   "execution_count": 3,
   "metadata": {},
   "outputs": [
    {
     "name": "stdout",
     "output_type": "stream",
     "text": [
      "enter the value of n:6\n",
      "('sum of number is:', 21)\n"
     ]
    }
   ],
   "source": [
    "num=int(input(\"enter the value of n:\"))\n",
    "a=num\n",
    "sum=0\n",
    "if num<=0:\n",
    "    print(\"enter a number\")\n",
    "else:\n",
    "    while num>0:\n",
    "        sum=sum+num;\n",
    "        num=num-1;\n",
    "print(\"sum of number is:\",sum)\n"
   ]
  },
  {
   "cell_type": "markdown",
   "metadata": {},
   "source": [
    "# find number is prime or not"
   ]
  },
  {
   "cell_type": "code",
   "execution_count": 77,
   "metadata": {},
   "outputs": [
    {
     "name": "stdout",
     "output_type": "stream",
     "text": [
      "enter number:20\n",
      "(20, ' is not prime number')\n"
     ]
    }
   ],
   "source": [
    "number=int(input(\"enter number:\"))\n",
    "if number>1:\n",
    "    for i in range(2,number):\n",
    "        if(number%i)==0:\n",
    "            print(number,\" is not prime number\")\n",
    "            break\n",
    "        else:  \n",
    "             print(number,\"is a prime number\")\n",
    "\n",
    "    else:      \n",
    "         print(number,\"is not prime number\")"
   ]
  },
  {
   "cell_type": "markdown",
   "metadata": {},
   "source": [
    "\n"
   ]
  }
 ],
 "metadata": {
  "kernelspec": {
   "display_name": "Python 2",
   "language": "python",
   "name": "python2"
  },
  "language_info": {
   "codemirror_mode": {
    "name": "ipython",
    "version": 2
   },
   "file_extension": ".py",
   "mimetype": "text/x-python",
   "name": "python",
   "nbconvert_exporter": "python",
   "pygments_lexer": "ipython2",
   "version": "2.7.16"
  }
 },
 "nbformat": 4,
 "nbformat_minor": 2
}
